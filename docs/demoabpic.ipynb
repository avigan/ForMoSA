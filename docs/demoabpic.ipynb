{
 "cells": [
  {
   "cell_type": "code",
   "execution_count": null,
   "metadata": {},
   "outputs": [],
   "source": [
    "\n"
   ]
  },
  {
   "cell_type": "markdown",
   "metadata": {},
   "source": [
    ".. toctree::\n",
    "   :maxdepth: 2\n",
    "   :titlesonly:\n",
    "\n",
    "   demo_basic.rst\n",
    "\n",
    "   tutorials/demo_basic.ipynb\n",
    "\n",
    "   :doc:`tutorials/demo_basic.ipynb`"
   ]
  }
 ],
 "metadata": {
  "language_info": {
   "name": "python"
  }
 },
 "nbformat": 4,
 "nbformat_minor": 2
}
