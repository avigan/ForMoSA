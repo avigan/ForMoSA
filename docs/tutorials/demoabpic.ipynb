{
 "cells": [
  {
   "cell_type": "markdown",
   "metadata": {},
   "source": [
    "# demo AB Pic b\n",
    "\n",
    "\n",
    "This tutorial is intended as a quick start. \n",
    "\n",
    "\n",
    "We will use medium resolution VLT/SINFONI K-band data of AB Pic b. These observations and example model were published in [P. Palma-Bifani et al (2023)](https://www.aanda.org/articles/aa/pdf/2023/02/aa44294-22.pdf).\n"
   ]
  },
  {
   "cell_type": "code",
   "execution_count": 1,
   "metadata": {},
   "outputs": [
    {
     "ename": "ModuleNotFoundError",
     "evalue": "No module named 'adapt'",
     "output_type": "error",
     "traceback": [
      "\u001b[0;31m---------------------------------------------------------------------------\u001b[0m",
      "\u001b[0;31mModuleNotFoundError\u001b[0m                       Traceback (most recent call last)",
      "Cell \u001b[0;32mIn[1], line 12\u001b[0m\n\u001b[1;32m     10\u001b[0m \u001b[38;5;28;01mfrom\u001b[39;00m \u001b[38;5;21;01mForMoSA\u001b[39;00m\u001b[38;5;21;01m.\u001b[39;00m\u001b[38;5;21;01mmain_utilities\u001b[39;00m \u001b[38;5;28;01mimport\u001b[39;00m yesno\n\u001b[1;32m     11\u001b[0m \u001b[38;5;28;01mfrom\u001b[39;00m \u001b[38;5;21;01mForMoSA\u001b[39;00m\u001b[38;5;21;01m.\u001b[39;00m\u001b[38;5;21;01mmain_utilities\u001b[39;00m \u001b[38;5;28;01mimport\u001b[39;00m GlobFile\n\u001b[0;32m---> 12\u001b[0m \u001b[38;5;28;01mfrom\u001b[39;00m \u001b[38;5;21;01mForMoSA\u001b[39;00m\u001b[38;5;21;01m.\u001b[39;00m\u001b[38;5;21;01madapt\u001b[39;00m\u001b[38;5;21;01m.\u001b[39;00m\u001b[38;5;21;01madapt_obs_mod\u001b[39;00m \u001b[38;5;28;01mimport\u001b[39;00m launch_adapt\n\u001b[1;32m     13\u001b[0m \u001b[38;5;28;01mfrom\u001b[39;00m \u001b[38;5;21;01mForMoSA\u001b[39;00m\u001b[38;5;21;01m.\u001b[39;00m\u001b[38;5;21;01mnested_sampling\u001b[39;00m\u001b[38;5;21;01m.\u001b[39;00m\u001b[38;5;21;01mnested_sampling\u001b[39;00m \u001b[38;5;28;01mimport\u001b[39;00m launch_nested_sampling\n\u001b[1;32m     15\u001b[0m \u001b[38;5;66;03m# For the plots\u001b[39;00m\n",
      "File \u001b[0;32m~/opt/anaconda3/envs/exo_formosa_multi_pip2/lib/python3.11/site-packages/ForMoSA/adapt/adapt_obs_mod.py:7\u001b[0m\n\u001b[1;32m      4\u001b[0m \u001b[38;5;28;01mimport\u001b[39;00m \u001b[38;5;21;01mxarray\u001b[39;00m \u001b[38;5;28;01mas\u001b[39;00m \u001b[38;5;21;01mxr\u001b[39;00m\n\u001b[1;32m      5\u001b[0m \u001b[38;5;28;01mfrom\u001b[39;00m \u001b[38;5;21;01mscipy\u001b[39;00m\u001b[38;5;21;01m.\u001b[39;00m\u001b[38;5;21;01minterpolate\u001b[39;00m \u001b[38;5;28;01mimport\u001b[39;00m interp1d\n\u001b[0;32m----> 7\u001b[0m \u001b[38;5;28;01mfrom\u001b[39;00m \u001b[38;5;21;01madapt\u001b[39;00m\u001b[38;5;21;01m.\u001b[39;00m\u001b[38;5;21;01mextraction_functions\u001b[39;00m \u001b[38;5;28;01mimport\u001b[39;00m extract_observation\n\u001b[1;32m      8\u001b[0m \u001b[38;5;28;01mfrom\u001b[39;00m \u001b[38;5;21;01madapt\u001b[39;00m\u001b[38;5;21;01m.\u001b[39;00m\u001b[38;5;21;01madapt_grid\u001b[39;00m \u001b[38;5;28;01mimport\u001b[39;00m adapt_grid\n\u001b[1;32m      9\u001b[0m \u001b[38;5;28;01mfrom\u001b[39;00m \u001b[38;5;21;01mmain_utilities\u001b[39;00m \u001b[38;5;28;01mimport\u001b[39;00m diag_mat\n",
      "\u001b[0;31mModuleNotFoundError\u001b[0m: No module named 'adapt'"
     ]
    }
   ],
   "source": [
    "import sys, glob, time, os\n",
    "import numpy as np\n",
    "import matplotlib.pyplot as plt\n",
    "import pandas as pd\n",
    "from astropy.table import Table\n",
    "from configobj import ConfigObj\n",
    "\n",
    "# ForMoSA modules\n",
    "# For the interpolation & sampling\n",
    "from ForMoSA.main_utilities import yesno\n",
    "from ForMoSA.main_utilities import GlobFile\n",
    "from ForMoSA.adapt.adapt_obs_mod import launch_adapt\n",
    "from ForMoSA.nested_sampling.nested_sampling import launch_nested_sampling\n",
    "\n",
    "# For the plots\n",
    "from ForMoSA.plotting.plotting_class import ComplexRadar\n",
    "from ForMoSA.plotting.plotting_class import PlottingForMoSA"
   ]
  },
  {
   "cell_type": "markdown",
   "metadata": {},
   "source": [
    ".. toctree::\n",
    "   :maxdepth: 2\n",
    "   :titlesonly:\n",
    "\n",
    "   demo_basic.rst\n",
    "\n",
    "   tutorials/demo_basic.ipynb\n",
    "\n",
    "   :doc:`tutorials/demo_basic.ipynb`"
   ]
  }
 ],
 "metadata": {
  "kernelspec": {
   "display_name": "exo_formosa_multi3",
   "language": "python",
   "name": "python3"
  },
  "language_info": {
   "codemirror_mode": {
    "name": "ipython",
    "version": 3
   },
   "file_extension": ".py",
   "mimetype": "text/x-python",
   "name": "python",
   "nbconvert_exporter": "python",
   "pygments_lexer": "ipython3",
   "version": "3.11.9"
  }
 },
 "nbformat": 4,
 "nbformat_minor": 2
}
