{
 "cells": [
  {
   "attachments": {},
   "cell_type": "markdown",
   "metadata": {},
   "source": [
    "Example on how to access to the atmospheric grid info to check the parameters and their ranges."
   ]
  },
  {
   "cell_type": "code",
   "execution_count": 1,
   "metadata": {},
   "outputs": [],
   "source": [
    "import numpy as np\n",
    "import xarray as xr"
   ]
  },
  {
   "cell_type": "code",
   "execution_count": 5,
   "metadata": {},
   "outputs": [
    {
     "name": "stdout",
     "output_type": "stream",
     "text": [
      "<xarray.Dataset>\n",
      "Dimensions:     (wavelength: 29922, par1: 33, par2: 5, par3: 4, par4: 15)\n",
      "Coordinates:\n",
      "  * wavelength  (wavelength) float64 0.6667 0.6667 0.6667 ... 245.4 248.4 251.6\n",
      "  * par1        (par1) float64 400.0 450.0 500.0 ... 1.9e+03 1.95e+03 2e+03\n",
      "  * par2        (par2) float64 3.0 3.5 4.0 4.5 5.0\n",
      "  * par3        (par3) float64 -0.5 0.0 0.5 1.0\n",
      "  * par4        (par4) float64 0.1 0.15 0.2 0.25 0.3 ... 0.6 0.65 0.7 0.75 0.8\n",
      "Data variables:\n",
      "    grid        (wavelength, par1, par2, par3, par4) float64 ...\n",
      "Attributes:\n",
      "    key:      ['par1', 'par2', 'par3', 'par4']\n",
      "    par:      ['teff', 'logg', 'mh', 'co']\n",
      "    title:    ['Teff', 'log(g)', '[M/H]', 'C/O']\n",
      "    unit:     ['(K)', '(dex)', '', '']\n",
      "    res:      [29999.50000004 29998.49999991 29997.50000002 ...    80.5\\n    ...\n"
     ]
    }
   ],
   "source": [
    "# Here Exo-REM grid is used as example\n",
    "grid_path = '/Users/ppalmabifani/Desktop/exoAtm/c0_ForMoSA/INPUTS/atm_grids/atm_grids_native/EXOREM_native.nc'\n",
    "\n",
    "ds = xr.open_dataset(grid_path, decode_cf=False)\n",
    "    \n",
    "print(ds)"
   ]
  },
  {
   "cell_type": "code",
   "execution_count": null,
   "metadata": {},
   "outputs": [],
   "source": []
  }
 ],
 "metadata": {
  "kernelspec": {
   "display_name": "Python 3.7.13 ('exo_formosa')",
   "language": "python",
   "name": "python3"
  },
  "language_info": {
   "codemirror_mode": {
    "name": "ipython",
    "version": 3
   },
   "file_extension": ".py",
   "mimetype": "text/x-python",
   "name": "python",
   "nbconvert_exporter": "python",
   "pygments_lexer": "ipython3",
   "version": "3.7.13"
  },
  "orig_nbformat": 4,
  "vscode": {
   "interpreter": {
    "hash": "9aec1e17db1a1c759b18bf85d14c335cdcfb4080f740d60b236f2747bc3cb68f"
   }
  }
 },
 "nbformat": 4,
 "nbformat_minor": 2
}
